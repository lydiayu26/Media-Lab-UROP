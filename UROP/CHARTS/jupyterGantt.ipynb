{
 "cells": [
  {
   "cell_type": "code",
   "execution_count": 4,
   "metadata": {},
   "outputs": [
    {
     "ename": "ModuleNotFoundError",
     "evalue": "No module named 'plotly.chart_studio'",
     "output_type": "error",
     "traceback": [
      "\u001b[0;31m---------------------------------------------------------------------------\u001b[0m",
      "\u001b[0;31mModuleNotFoundError\u001b[0m                       Traceback (most recent call last)",
      "\u001b[0;32m<ipython-input-4-8a8901935329>\u001b[0m in \u001b[0;36m<module>\u001b[0;34m\u001b[0m\n\u001b[0;32m----> 1\u001b[0;31m \u001b[0;32mimport\u001b[0m \u001b[0mplotly\u001b[0m\u001b[0;34m.\u001b[0m\u001b[0mchart_studio\u001b[0m \u001b[0;32mas\u001b[0m \u001b[0mpy\u001b[0m\u001b[0;34m\u001b[0m\u001b[0;34m\u001b[0m\u001b[0m\n\u001b[0m\u001b[1;32m      2\u001b[0m \u001b[0;32mimport\u001b[0m \u001b[0mplotly\u001b[0m\u001b[0;34m.\u001b[0m\u001b[0mfigure_factory\u001b[0m \u001b[0;32mas\u001b[0m \u001b[0mff\u001b[0m\u001b[0;34m\u001b[0m\u001b[0;34m\u001b[0m\u001b[0m\n\u001b[1;32m      3\u001b[0m \u001b[0;32mimport\u001b[0m \u001b[0mpandas\u001b[0m \u001b[0;32mas\u001b[0m \u001b[0mpd\u001b[0m\u001b[0;34m\u001b[0m\u001b[0;34m\u001b[0m\u001b[0m\n\u001b[1;32m      4\u001b[0m \u001b[0;34m\u001b[0m\u001b[0m\n\u001b[1;32m      5\u001b[0m \u001b[0;31m#take in data, use only data from day 1:\u001b[0m\u001b[0;34m\u001b[0m\u001b[0;34m\u001b[0m\u001b[0;34m\u001b[0m\u001b[0m\n",
      "\u001b[0;31mModuleNotFoundError\u001b[0m: No module named 'plotly.chart_studio'"
     ]
    }
   ],
   "source": [
    "#import plotly.chart_studio as py\n",
    "import plotly.figure_factory as ff \n",
    "import pandas as pd \n",
    "\n",
    "#take in data, use only data from day 1:\n",
    "data = pd.read_csv(\"/users/lydiayu/Dropbox (MIT)/UROP/SampsonACTIVITIES.csv\")\n",
    "#day1 = data.loc[210:422,:]\n",
    "day1 = data.loc[210:260,:]\n",
    "\n",
    "activities = {\"N\":\"nodding\",\n",
    "            \"B\":\"bobbing\",\n",
    "            \"V\":\"vocalization\",\n",
    "            \"W\":\"whisteling\",\n",
    "            \"M\":\"moving\",\n",
    "            \"H\":\"head whips\",\n",
    "            \"P\":\"pruning\",\n",
    "            \"S\":\"stretching\",\n",
    "            \"E\":\"eating\",\n",
    "            \"L\":\"standing on one leg\",\n",
    "            \"NB\":\"nibbling\",\n",
    "            \"FP\":\"feathers puffing\"}\n",
    "\n",
    "#create a list of the start/end times of ALL the different Sampson activites\n",
    "df = []\n",
    "\n",
    "for index, row in day1.head().iterrows():\n",
    "    act = activities.get(row['Activity'])\n",
    "    activity = dict(Task = act, Start = row['StartSec'], Finish = row['EndSec'], Resource = row['Activity'])\n",
    "    df.append(activity)\n",
    "\n",
    "#create dictionary for colors. Diff color for each activity in this case.\n",
    "colordict = dict(N = 'rgb(220,20,60)',\n",
    "            B = 'rgb(255,160,122)',\n",
    "            V = 'rgb(255,215,0)',\n",
    "            W = 'rgb(144,238,144)',\n",
    "            M = 'rgb(32,178,170)',\n",
    "            H = 'rgb(100,149,237)',\n",
    "            P = 'rgb(135,206,250)',\n",
    "            S = 'rgb(0,0,139)',\n",
    "            E = 'rgb(138,43,226)',\n",
    "            L = 'rgb(255,0,255)',\n",
    "            NB = 'rgb(199,21,133)',\n",
    "            FP = 'rgb(255,228,196)')\n",
    "\n",
    "fig = ff.create_gantt(df, colors=colordict, index_col='Resource', title='Sampson Activities', show_colorbar=True, bar_width=1.5, group_tasks=True)\n",
    "py.iplot(fig, filename='jupyterGantt')"
   ]
  },
  {
   "cell_type": "code",
   "execution_count": null,
   "metadata": {},
   "outputs": [],
   "source": []
  }
 ],
 "metadata": {
  "kernelspec": {
   "display_name": "Python 3",
   "language": "python",
   "name": "python3"
  },
  "language_info": {
   "codemirror_mode": {
    "name": "ipython",
    "version": 3
   },
   "file_extension": ".py",
   "mimetype": "text/x-python",
   "name": "python",
   "nbconvert_exporter": "python",
   "pygments_lexer": "ipython3",
   "version": "3.7.3"
  }
 },
 "nbformat": 4,
 "nbformat_minor": 2
}
